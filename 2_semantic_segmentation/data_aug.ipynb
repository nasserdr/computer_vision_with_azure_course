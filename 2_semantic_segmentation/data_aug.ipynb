{
  "cells": [
    {
      "cell_type": "code",
      "execution_count": 1,
      "metadata": {
        "gather": {
          "logged": 1670321809304
        }
      },
      "outputs": [
        {
          "name": "stdout",
          "output_type": "stream",
          "text": [
            "Requirement already satisfied: imgaug in /anaconda/envs/azureml_py38/lib/python3.8/site-packages (0.4.0)\n",
            "Requirement already satisfied: pandas in /anaconda/envs/azureml_py38/lib/python3.8/site-packages (1.1.5)\n",
            "Requirement already satisfied: Pillow in /anaconda/envs/azureml_py38/lib/python3.8/site-packages (from imgaug) (9.3.0)\n",
            "Requirement already satisfied: scikit-image>=0.14.2 in /anaconda/envs/azureml_py38/lib/python3.8/site-packages (from imgaug) (0.19.3)\n",
            "Requirement already satisfied: numpy>=1.15 in /anaconda/envs/azureml_py38/lib/python3.8/site-packages (from imgaug) (1.23.5)\n",
            "Requirement already satisfied: six in /anaconda/envs/azureml_py38/lib/python3.8/site-packages (from imgaug) (1.16.0)\n",
            "Requirement already satisfied: Shapely in /anaconda/envs/azureml_py38/lib/python3.8/site-packages (from imgaug) (1.8.2)\n",
            "Requirement already satisfied: matplotlib in /anaconda/envs/azureml_py38/lib/python3.8/site-packages (from imgaug) (3.5.2)\n",
            "Requirement already satisfied: imageio in /anaconda/envs/azureml_py38/lib/python3.8/site-packages (from imgaug) (2.21.1)\n",
            "Requirement already satisfied: scipy in /anaconda/envs/azureml_py38/lib/python3.8/site-packages (from imgaug) (1.9.3)\n",
            "Requirement already satisfied: opencv-python in /anaconda/envs/azureml_py38/lib/python3.8/site-packages (from imgaug) (4.6.0.66)\n",
            "Requirement already satisfied: python-dateutil>=2.7.3 in /anaconda/envs/azureml_py38/lib/python3.8/site-packages (from pandas) (2.8.2)\n",
            "Requirement already satisfied: pytz>=2017.2 in /anaconda/envs/azureml_py38/lib/python3.8/site-packages (from pandas) (2022.6)\n",
            "Requirement already satisfied: PyWavelets>=1.1.1 in /anaconda/envs/azureml_py38/lib/python3.8/site-packages (from scikit-image>=0.14.2->imgaug) (1.3.0)\n",
            "Requirement already satisfied: networkx>=2.2 in /anaconda/envs/azureml_py38/lib/python3.8/site-packages (from scikit-image>=0.14.2->imgaug) (2.8.8)\n",
            "Requirement already satisfied: packaging>=20.0 in /anaconda/envs/azureml_py38/lib/python3.8/site-packages (from scikit-image>=0.14.2->imgaug) (21.3)\n",
            "Requirement already satisfied: tifffile>=2019.7.26 in /anaconda/envs/azureml_py38/lib/python3.8/site-packages (from scikit-image>=0.14.2->imgaug) (2022.8.12)\n",
            "Requirement already satisfied: kiwisolver>=1.0.1 in /anaconda/envs/azureml_py38/lib/python3.8/site-packages (from matplotlib->imgaug) (1.4.4)\n",
            "Requirement already satisfied: cycler>=0.10 in /anaconda/envs/azureml_py38/lib/python3.8/site-packages (from matplotlib->imgaug) (0.11.0)\n",
            "Requirement already satisfied: fonttools>=4.22.0 in /anaconda/envs/azureml_py38/lib/python3.8/site-packages (from matplotlib->imgaug) (4.25.0)\n",
            "Requirement already satisfied: pyparsing>=2.2.1 in /anaconda/envs/azureml_py38/lib/python3.8/site-packages (from matplotlib->imgaug) (3.0.9)\n"
          ]
        }
      ],
      "source": [
        "import sys\n",
        "!{sys.executable} -m pip install imgaug pandas"
      ]
    },
    {
      "cell_type": "code",
      "execution_count": null,
      "metadata": {
        "jupyter": {
          "outputs_hidden": false,
          "source_hidden": false
        },
        "nteract": {
          "transient": {
            "deleting": false
          }
        }
      },
      "outputs": [],
      "source": [
        "import os\n",
        "from glob import glob\n",
        "import pandas as pd\n",
        "\n",
        "from utils import AugmentData, plotAugmentation"
      ]
    }
  ],
  "metadata": {
    "kernel_info": {
      "name": "python38-azureml"
    },
    "kernelspec": {
      "display_name": "Python 3.8 - AzureML",
      "language": "python",
      "name": "python38-azureml"
    },
    "language_info": {
      "codemirror_mode": {
        "name": "ipython",
        "version": 3
      },
      "file_extension": ".py",
      "mimetype": "text/x-python",
      "name": "python",
      "nbconvert_exporter": "python",
      "pygments_lexer": "ipython3",
      "version": "3.8.5"
    },
    "nteract": {
      "version": "nteract-front-end@1.0.0"
    }
  },
  "nbformat": 4,
  "nbformat_minor": 2
}
