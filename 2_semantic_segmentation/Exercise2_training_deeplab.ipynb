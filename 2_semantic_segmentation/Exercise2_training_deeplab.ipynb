{
  "cells": [
    {
      "cell_type": "markdown",
      "source": [
        "# 1. Set up\r\n",
        "\r\n",
        "### Download the data"
      ],
      "metadata": {
        "nteract": {
          "transient": {
            "deleting": false
          }
        }
      }
    },
    {
      "cell_type": "code",
      "source": [
        "#Download data in the data folder\r\n",
        "from azureml.core import Workspace, Dataset\r\n",
        "\r\n",
        "subscription_id = '78b4d5f1-fca5-4af5-b686-34747c61c20f'\r\n",
        "resource_group = 'ressource-group-Changins'\r\n",
        "workspace_name = 'workspace-changins'\r\n",
        "\r\n",
        "workspace = Workspace(subscription_id, resource_group, workspace_name)\r\n",
        "\r\n",
        "dataset = Dataset.get_by_name(workspace, name='oilseed-rape-dataset')\r\n",
        "dataset.download(target_path='../../data/oilseed_rape', overwrite=True)"
      ],
      "outputs": [],
      "execution_count": null,
      "metadata": {
        "gather": {
          "logged": 1670577293276
        }
      }
    },
    {
      "cell_type": "markdown",
      "source": [
        "### General imports"
      ],
      "metadata": {
        "nteract": {
          "transient": {
            "deleting": false
          }
        }
      }
    },
    {
      "cell_type": "code",
      "source": [
        "import cv2\r\n",
        "from glob import glob\r\n",
        "import matplotlib.pyplot as plt\r\n",
        "import numpy as np\r\n",
        "import os\r\n",
        "import pandas as pd\r\n",
        "import seaborn as sns\r\n",
        "from tqdm import tqdm\r\n",
        "\r\n",
        "\r\n",
        "import torch\r\n",
        "import torch.nn as nn\r\n",
        "import torch.optim as optim\r\n",
        "\r\n",
        "from torchvision import transforms as T\r\n",
        "from torchvision.models.segmentation.deeplabv3 import DeepLabHead\r\n",
        "from torchvision import models"
      ],
      "outputs": [
        {
          "output_type": "stream",
          "name": "stderr",
          "text": "<frozen importlib._bootstrap>:219: RuntimeWarning: scipy._lib.messagestream.MessageStream size changed, may indicate binary incompatibility. Expected 56 from C header, got 64 from PyObject\n"
        }
      ],
      "execution_count": 1,
      "metadata": {
        "jupyter": {
          "source_hidden": false,
          "outputs_hidden": false
        },
        "nteract": {
          "transient": {
            "deleting": false
          }
        },
        "gather": {
          "logged": 1670577489751
        }
      }
    },
    {
      "cell_type": "code",
      "source": [
        "from utils import plotImgs, TrainingDataset, InferenceDataset, Inference\r\n",
        "from utils import my_confusion_matrix, cm2rates, rates2metrics"
      ],
      "outputs": [],
      "execution_count": 2,
      "metadata": {
        "jupyter": {
          "source_hidden": false,
          "outputs_hidden": false
        },
        "nteract": {
          "transient": {
            "deleting": false
          }
        },
        "gather": {
          "logged": 1670577491044
        }
      }
    },
    {
      "cell_type": "markdown",
      "source": [
        "# 2. Data exploration\r\n",
        "\r\n",
        "Before starting a model, it's always good have an overview of the data we work with. Especially, the class balance will be impacting the results. "
      ],
      "metadata": {
        "nteract": {
          "transient": {
            "deleting": false
          }
        }
      }
    },
    {
      "cell_type": "code",
      "source": [
        "# Load images and masks\r\n",
        "root = os.getcwd()\r\n",
        "img_dir = root + '/../../data/oilseed_rape/train/Images'\r\n",
        "img_paths = glob(img_dir + '/*')\r\n",
        "mask_dir = root + '/../../data/oilseed_rape/train/Masks'\r\n",
        "mask_paths = glob(mask_dir + '/*')"
      ],
      "outputs": [],
      "execution_count": 3,
      "metadata": {
        "jupyter": {
          "source_hidden": false,
          "outputs_hidden": false
        },
        "nteract": {
          "transient": {
            "deleting": false
          }
        },
        "gather": {
          "logged": 1670577491745
        }
      }
    },
    {
      "cell_type": "code",
      "source": [
        "img = cv2.cvtColor(cv2.imread(img_paths[1]), cv2.COLOR_BGR2RGB)\r\n",
        "mask = cv2.cvtColor(cv2.imread(mask_paths[1]), cv2.COLOR_BGR2RGB)\r\n",
        "\r\n",
        "print('Data type:', type(img))\r\n",
        "print('')\r\n",
        "print('Data size')\r\n",
        "print('Mask ([ H, W, C]):', mask.shape)\r\n",
        "print('Image ([H, W, C]):', img.shape)\r\n",
        "print('')\r\n",
        "print('Mask \\n', mask[:4,:4])\r\n",
        "print('')\r\n",
        "print('Image \\n', img[:4,:4])"
      ],
      "outputs": [],
      "execution_count": null,
      "metadata": {
        "jupyter": {
          "source_hidden": false,
          "outputs_hidden": false
        },
        "nteract": {
          "transient": {
            "deleting": false
          }
        },
        "gather": {
          "logged": 1670577303478
        }
      }
    },
    {
      "cell_type": "code",
      "source": [
        "# A simple way to plot images\r\n",
        "\"\"\"\r\n",
        "plt.imshow(img)\r\n",
        "plt.show()\r\n",
        "\"\"\" \r\n",
        "\r\n",
        "# Nice plots\r\n",
        "plotImgs(1, 2, [img, mask], ['Image','Mask'])"
      ],
      "outputs": [],
      "execution_count": null,
      "metadata": {
        "jupyter": {
          "source_hidden": false,
          "outputs_hidden": false
        },
        "nteract": {
          "transient": {
            "deleting": false
          }
        },
        "gather": {
          "logged": 1670506534966
        }
      }
    },
    {
      "cell_type": "code",
      "source": [
        "new_val = np.zeros((len(mask_paths),3))\r\n",
        "\r\n",
        "for i, p in enumerate(mask_paths):\r\n",
        "    mask = cv2.imread(p)\r\n",
        "    #Create 3 classes, 0:BG, 1:SP, 2:OSR\r\n",
        "    new_mask = np.zeros(mask.shape)\r\n",
        "    new_mask[mask > 127] = 1              \r\n",
        "    new_mask[new_mask[:, :, 1] > 0, 2] = 2\r\n",
        "    class_mask = new_mask[:, :, 2].astype(int)\r\n",
        "\r\n",
        "    # Get distribution per images\r\n",
        "\r\n",
        "    size = class_mask.shape[0]*class_mask.shape[1]\r\n",
        "    result = np.unique(class_mask, return_counts=True )\r\n",
        "    new_val[i,result[0]] += np.round(100*result[1]/size,2)"
      ],
      "outputs": [],
      "execution_count": null,
      "metadata": {
        "jupyter": {
          "source_hidden": false,
          "outputs_hidden": false
        },
        "nteract": {
          "transient": {
            "deleting": false
          }
        },
        "gather": {
          "logged": 1670506558406
        }
      }
    },
    {
      "cell_type": "code",
      "source": [
        "df = pd.DataFrame(new_val, columns = ['Background', 'Other plants', 'Oilseed rape'])\r\n",
        "df.head()"
      ],
      "outputs": [],
      "execution_count": null,
      "metadata": {
        "jupyter": {
          "source_hidden": false,
          "outputs_hidden": false
        },
        "nteract": {
          "transient": {
            "deleting": false
          }
        },
        "gather": {
          "logged": 1670506558705
        }
      }
    },
    {
      "cell_type": "code",
      "source": [
        "colors = ['dimgrey','r','gold']\r\n",
        "sns.set(rc={\"figure.figsize\":(5,3)}) \r\n",
        "sns.boxplot( data=df, palette = colors)\r\n",
        "plt.show()"
      ],
      "outputs": [],
      "execution_count": null,
      "metadata": {
        "jupyter": {
          "source_hidden": false,
          "outputs_hidden": false
        },
        "nteract": {
          "transient": {
            "deleting": false
          }
        },
        "gather": {
          "logged": 1670506559007
        }
      }
    },
    {
      "cell_type": "code",
      "source": [
        "df.plot.bar(subplots = True, figsize=(9, 8), color=colors,  sharey=True, title = 'Class distribution of the tranining images')\r\n",
        "plt.show()"
      ],
      "outputs": [],
      "execution_count": null,
      "metadata": {
        "jupyter": {
          "source_hidden": false,
          "outputs_hidden": false
        },
        "nteract": {
          "transient": {
            "deleting": false
          }
        },
        "gather": {
          "logged": 1670506560328
        }
      }
    },
    {
      "cell_type": "markdown",
      "source": [
        "# Stream data"
      ],
      "metadata": {
        "nteract": {
          "transient": {
            "deleting": false
          }
        }
      }
    },
    {
      "cell_type": "code",
      "source": [
        "class DatasetInfo:\r\n",
        "    \"\"\" Class used to define all parameters and methods specific to the data sources (inputs and targets) \"\"\"\r\n",
        "\r\n",
        "    def __init__(self):\r\n",
        "\r\n",
        "        # Get methods and parameters corresponding to input and target sources\r\n",
        "        self.device = torch.device(\"cuda:0\" if torch.cuda.is_available() else \"cpu\")\r\n",
        "\r\n",
        "        # parameterize the output(s)\r\n",
        "        self.n_classes = 3\r\n",
        "        self.class_names = ['BG', 'SP', 'OSR']\r\n",
        "\r\n",
        "        # set patch parameters for inference\r\n",
        "        self.num_patches_per_tile = 4 \r\n",
        "        self.patch_size = 320 #256 min value size for windows using pretrained DeepLabv3+\r\n",
        "        self.padding = 80\r\n",
        "        self.stride = self.patch_size -  self.padding\r\n",
        "\r\n",
        "        # Initialize the dictionnary of logs\r\n",
        "        self.dict_metrics = ['acc', 'prec', 'recall', 'f1', 'sup'] #add iou\r\n",
        "        self.dict_attribute = self.class_names + ['Mean', 'FW']\r\n",
        "        cols = []\r\n",
        "        \r\n",
        "        for a in self.dict_attribute:\r\n",
        "            for m in self.dict_metrics:\r\n",
        "                title = a + '_' + m\r\n",
        "                cols.append(title)\r\n",
        "        \r\n",
        "        self.columns = ['Filename', 'Cov', 'Pred'] + cols\r\n",
        "            \r\n",
        "        \r\n",
        "\r\n",
        "    ################# Methods for pre/post-processing ######################### \r\n",
        "    \r\n",
        "    def preprocess_input(self, inputs):\r\n",
        "        #normalize image and convert to tensor\r\n",
        "        transforms = T.Compose([\r\n",
        "            T.ToTensor(),\r\n",
        "            T.Normalize(mean=[0.485, 0.456, 0.406], \r\n",
        "                        std=[0.229, 0.224, 0.225])\r\n",
        "        ])        \r\n",
        "        return transforms(inputs)\r\n",
        "    \r\n",
        "    def preprocess_target(self, targets):\r\n",
        "        \r\n",
        "        #Create 3 classes, 0:BG, 1:SP, 2:OSR\r\n",
        "        mask = np.zeros(targets.shape)\r\n",
        "        mask[targets > 127] = 1              \r\n",
        "        mask[mask[:, :, 1] > 0, 2] = 2\r\n",
        "        \r\n",
        "        return torch.from_numpy(mask[:, :, 2].astype(np.int64))\r\n",
        "    \r\n",
        "    def rescale(self, img):\r\n",
        "        \r\n",
        "        dim = (int(img.shape[1]//2), int(img.shape[0]//2))\r\n",
        "        resized = cv2.resize(img, dim, interpolation = cv2.INTER_AREA)\r\n",
        "        \r\n",
        "        return resized\r\n",
        "\r\n",
        "    def create_kernel(self):\r\n",
        "        k = np.ones((self.patch_size, self.patch_size), dtype=np.float32)\r\n",
        "        k[self.padding//2:-self.padding//2, self.padding//2:-self.padding//2] = 5\r\n",
        "        return k\r\n",
        "\r\n",
        "    def get_inference_kernel(self):\r\n",
        "        kernel = self.create_kernel()\r\n",
        "        return kernel"
      ],
      "outputs": [],
      "execution_count": 5,
      "metadata": {
        "jupyter": {
          "source_hidden": false,
          "outputs_hidden": false
        },
        "nteract": {
          "transient": {
            "deleting": false
          }
        },
        "gather": {
          "logged": 1670577503370
        }
      }
    },
    {
      "cell_type": "code",
      "source": [
        "debug = True\r\n",
        "batch_size = 4\r\n",
        "num_epochs = 10\r\n",
        "n_workers = 6\r\n",
        "\r\n",
        "output_dir = root + '/output' \r\n",
        "input_dir = root + '/../../data/oilseed_rape' \r\n",
        "exp_name = os.path.basename(output_dir)\r\n",
        "log_fn = os.path.join(output_dir, '{}_metrics.pt'.format(exp_name))\r\n",
        "model_fn = os.path.join(output_dir, '{}_model.pt'.format(exp_name))\r\n",
        "\r\n",
        "# Create metrics dictionnary to save logs of the training\r\n",
        "save_dict = {    \r\n",
        "    'model_checkpoints': [],\r\n",
        "    'optimizer_checkpoints' : [],\r\n",
        "    'train_losses': [],\r\n",
        "    'train_reports':[],\r\n",
        "    'val_losses':[],\r\n",
        "    'val_reports' : [],\r\n",
        "    'epochs' : []\r\n",
        "    }\r\n",
        "\r\n",
        "ds_info = DatasetInfo()"
      ],
      "outputs": [],
      "execution_count": 6,
      "metadata": {
        "jupyter": {
          "source_hidden": false,
          "outputs_hidden": false
        },
        "nteract": {
          "transient": {
            "deleting": false
          }
        },
        "gather": {
          "logged": 1670577504211
        }
      }
    },
    {
      "cell_type": "code",
      "source": [
        "fn_val = [f[0] for f in pd.read_csv(root + '/dataset/validation_dataset.csv').values]\r\n",
        "input_fns, target_fns = np.array(glob(input_dir + '/train/Images/*')), np.array(glob(input_dir + '/train/Masks/*'))  \r\n",
        "cond = [t.split('/')[-1].split('.')[0] in fn_val for t in target_fns]\r\n",
        "    \r\n",
        "input_fns_val, target_fns_val = input_fns[cond], target_fns[cond]\r\n",
        "input_fns, target_fns = input_fns[np.invert(cond)], target_fns[np.invert(cond)]\r\n",
        "\r\n",
        "# for debugging: use subset of training set\r\n",
        "if debug:\r\n",
        "    input_fns = input_fns[:10]\r\n",
        "    target_fns = target_fns[:10]\r\n",
        "    #input_fns_val, target_fns_val = input_fns_val[:3], target_fns_val[:3]\r\n",
        "\r\n",
        "print('Length training dataset', len(input_fns))\r\n",
        "print('Length validation dataset', len(input_fns_val))"
      ],
      "outputs": [],
      "execution_count": 8,
      "metadata": {
        "jupyter": {
          "source_hidden": false,
          "outputs_hidden": false
        },
        "nteract": {
          "transient": {
            "deleting": false
          }
        },
        "gather": {
          "logged": 1670577505991
        }
      }
    },
    {
      "cell_type": "code",
      "source": [
        "dataset = TrainingDataset(\r\n",
        "            input_fns = input_fns, \r\n",
        "            target_fns = target_fns, \r\n",
        "            dataset_info = ds_info,\r\n",
        "            verbose=False\r\n",
        "        )\r\n",
        "\r\n",
        "# create dataloader\r\n",
        "dataloader = torch.utils.data.DataLoader(\r\n",
        "            dataset,\r\n",
        "            batch_size = batch_size,\r\n",
        "            num_workers = n_workers,\r\n",
        "            pin_memory=True,\r\n",
        "        )\r\n",
        "print('Training dataloader created')"
      ],
      "outputs": [
        {
          "output_type": "stream",
          "name": "stdout",
          "text": "Length training dataset 10\nLength validation dataset 5\nTraining dataloader created\n"
        }
      ],
      "execution_count": 9,
      "metadata": {
        "jupyter": {
          "source_hidden": false,
          "outputs_hidden": false
        },
        "nteract": {
          "transient": {
            "deleting": false
          }
        },
        "gather": {
          "logged": 1670577506783
        }
      }
    },
    {
      "cell_type": "code",
      "source": [
        "data, target = next(iter(dataloader)) \r\n",
        "\r\n",
        "print('Data type:', type(data))\r\n",
        "print('')\r\n",
        "print('Data size')\r\n",
        "print('Mask from dataloader ([N, H, W]):', target.shape)\r\n",
        "print('Image from dataloader ([N, C, H, W]):', data.shape)\r\n",
        "print('')\r\n",
        "print('Mask from dataloader \\n', target[0,:4,:4])\r\n",
        "\r\n",
        "print('Image from dataloader \\n', data[0,:,:4,:4])"
      ],
      "outputs": [
        {
          "output_type": "stream",
          "name": "stdout",
          "text": "Data type: <class 'torch.Tensor'>\n\nData size\nMask from dataloader ([N, H, W]): torch.Size([4, 320, 320])\nImage from dataloader ([N, C, H, W]): torch.Size([4, 3, 320, 320])\n\nMask from dataloader \n tensor([[0, 0, 0, 0],\n        [0, 0, 0, 0],\n        [0, 0, 0, 0],\n        [0, 0, 0, 0]])\nImage from dataloader \n tensor([[[-1.6898, -1.7069, -1.5699, -1.4500],\n         [-1.4843, -1.2959, -1.1760, -1.0733],\n         [-1.0219, -1.0562, -1.0733, -1.0562],\n         [-0.9877, -1.0733, -1.0733, -1.0390]],\n\n        [[-1.5805, -1.6155, -1.5280, -1.3880],\n         [-1.4405, -1.2479, -1.1604, -1.0553],\n         [-1.0203, -1.0553, -1.0903, -1.0728],\n         [-1.0028, -1.1078, -1.1078, -1.0728]],\n\n        [[-1.5256, -1.5779, -1.4907, -1.3687],\n         [-1.4384, -1.2816, -1.2119, -1.1073],\n         [-1.0724, -1.1596, -1.1770, -1.1944],\n         [-1.1247, -1.2467, -1.2467, -1.2119]]])\n"
        }
      ],
      "execution_count": 11,
      "metadata": {
        "jupyter": {
          "source_hidden": false,
          "outputs_hidden": false
        },
        "nteract": {
          "transient": {
            "deleting": false
          }
        },
        "gather": {
          "logged": 1670577509540
        }
      }
    },
    {
      "cell_type": "code",
      "source": [
        "plotImgs(1,8,[data[0,0], target[0]*127, data[1,0], target[1]*127, data[2,0], target[2]*127, data[3,0], target[3]*127], \r\n",
        "    ['Image 1','Mask 1', 'Image 2','Mask 2', 'Image 3','Mask 3', 'Image 4','Mask 4'])"
      ],
      "outputs": [
        {
          "output_type": "display_data",
          "data": {
            "text/plain": "<Figure size 1152x504 with 8 Axes>",
            "image/png": "[encoded data removed]"
          },
          "metadata": {
            "needs_background": "light"
          }
        }
      ],
      "execution_count": 12,
      "metadata": {
        "jupyter": {
          "source_hidden": false,
          "outputs_hidden": false
        },
        "nteract": {
          "transient": {
            "deleting": false
          }
        },
        "gather": {
          "logged": 1670577510375
        }
      }
    },
    {
      "cell_type": "markdown",
      "source": [
        "## Create the model"
      ],
      "metadata": {
        "nteract": {
          "transient": {
            "deleting": false
          }
        }
      }
    },
    {
      "cell_type": "code",
      "source": [
        "#Load pretrained model\r\n",
        "model = models.segmentation.deeplabv3_resnet101(pretrained=True, progress=True)\r\n",
        "\r\n",
        "#Auxiliaire classifier is modified according to number of class to predict\r\n",
        "model.classifier = DeepLabHead(2048, ds_info.n_classes) #YOUR CODE HERE"
      ],
      "outputs": [],
      "execution_count": 13,
      "metadata": {
        "jupyter": {
          "source_hidden": false,
          "outputs_hidden": false
        },
        "nteract": {
          "transient": {
            "deleting": false
          }
        },
        "gather": {
          "logged": 1670577511553
        }
      }
    },
    {
      "cell_type": "code",
      "source": [
        "torch.cuda.empty_cache()\r\n",
        "\r\n",
        "# Set model architecture\r\n",
        "# Create model and criterion, and forward + backward pass function\r\n",
        "model = model.to(ds_info.device)\r\n",
        "optimizer = optim.Adam(model.parameters(), lr=1e-4)\r\n",
        "criterion = nn.CrossEntropyLoss()"
      ],
      "outputs": [],
      "execution_count": 14,
      "metadata": {
        "jupyter": {
          "source_hidden": false,
          "outputs_hidden": false
        },
        "nteract": {
          "transient": {
            "deleting": false
          }
        },
        "gather": {
          "logged": 1670577512074
        }
      }
    },
    {
      "cell_type": "code",
      "source": [
        "def fit(model, device, dataloader, optimizer, criterion, n_batches, dataset_info):\r\n",
        "    \"\"\"\r\n",
        "    For the temporal model (1) Unet + GRU\r\n",
        "    Runs 1 training epoch\r\n",
        "    n_batches is used to setup the progress bar only. The actual number of batches is defined by the dataloader.\r\n",
        "    \"\"\"\r\n",
        "    model.train()\r\n",
        "    torch.cuda.empty_cache()\r\n",
        "\r\n",
        "    losses = []\r\n",
        "    running_loss = 0.0\r\n",
        "    \r\n",
        "    # train batch by batch\r\n",
        "    progress_bar = tqdm(enumerate(dataloader), total=n_batches)\r\n",
        "    #torch.cuda.set_device()\r\n",
        "    cm_cum = np.zeros((dataset_info.n_classes,) * 2).astype('int64')\r\n",
        "\r\n",
        "    for batch_idx, data in progress_bar:\r\n",
        "\r\n",
        "        input, target = data[0], data[1]\r\n",
        "\r\n",
        "        # train batch by batch\r\n",
        "        target = target.to(device)\r\n",
        "        input = input.type(torch.FloatTensor).to(device)\r\n",
        "        \r\n",
        "        optimizer.zero_grad()\r\n",
        "\r\n",
        "        result = model(input) #(N,C,H,W\")\r\n",
        "        loss = criterion(result['out'], target.long())\r\n",
        "\r\n",
        "        losses.append(loss.item())\r\n",
        "        running_loss += loss.item()\r\n",
        "        loss.backward()\r\n",
        "\r\n",
        "        output = torch.argmax(result['out'], axis = 1)\r\n",
        "\r\n",
        "        cm_cum += my_confusion_matrix(target.long().cpu(), output.cpu(), dataset_info.n_classes)\r\n",
        "        dict_cm = cm2rates(cm_cum)\r\n",
        "        train_metrics = rates2metrics(dict_cm, dataset_info.class_names)\r\n",
        "    \r\n",
        "        optimizer.step() \r\n",
        "\r\n",
        "        # print running loss\r\n",
        "        progress_bar.set_postfix(\r\n",
        "            loss = np.mean(losses), \r\n",
        "            acc = train_metrics['mean']['accuracy'], \r\n",
        "            prec = train_metrics['mean']['precision'], \r\n",
        "            rec = train_metrics['mean']['recall'])\r\n",
        "        running_loss = 0.0\r\n",
        "        \r\n",
        "    avg_loss = np.mean(losses)\r\n",
        "    \r\n",
        "    return avg_loss, train_metrics"
      ],
      "outputs": [],
      "execution_count": 15,
      "metadata": {
        "jupyter": {
          "source_hidden": false,
          "outputs_hidden": false
        },
        "nteract": {
          "transient": {
            "deleting": false
          }
        },
        "gather": {
          "logged": 1670577512638
        }
      }
    },
    {
      "cell_type": "code",
      "source": [
        "n_batches_per_epoch = int(len(dataset.fns) * ds_info.num_patches_per_tile / batch_size)\r\n",
        "infer = Inference(model, ds_info, output_dir)"
      ],
      "outputs": [],
      "execution_count": 16,
      "metadata": {
        "jupyter": {
          "source_hidden": false,
          "outputs_hidden": false
        },
        "nteract": {
          "transient": {
            "deleting": false
          }
        },
        "gather": {
          "logged": 1670577513017
        }
      }
    },
    {
      "cell_type": "code",
      "source": [
        "for i, epoch in enumerate(range(0, num_epochs)):\r\n",
        "    print('\\nTraining epoch: {}'.format(epoch))\r\n",
        "    \r\n",
        "    # shuffle data at every epoch (placed here so that all the workers use the same permutation)\r\n",
        "    np.random.shuffle(dataset.fns)\r\n",
        "\r\n",
        "    # forward and backward pass\r\n",
        "    avg_loss, metrics_train = fit(\r\n",
        "                    model,\r\n",
        "                    ds_info.device,\r\n",
        "                    dataloader,\r\n",
        "                    optimizer,\r\n",
        "                    criterion,\r\n",
        "                    n_batches_per_epoch,\r\n",
        "                    ds_info\r\n",
        "                )\r\n",
        "\r\n",
        "    # evaluation (validation) \r\n",
        "    metrics_val, loss_val = infer._get_inference(input_fns_val, target_fns_val, criterion)\r\n",
        "\r\n",
        "\r\n",
        "    # update and save dictionary containing metrics and checkpoints\r\n",
        "    save_dict['val_reports'].append(metrics_val)\r\n",
        "    save_dict['val_losses'].append(loss_val)\r\n",
        "    save_dict['train_losses'].append(avg_loss)\r\n",
        "    save_dict['train_reports'].append(metrics_train)\r\n",
        "    save_dict['model_checkpoints'].append(model.state_dict())\r\n",
        "    save_dict['optimizer_checkpoints'].append(optimizer.state_dict())\r\n",
        "    save_dict['epochs'] = epoch + 1 # number of epochs already computed\r\n",
        "\r\n",
        "    with open(log_fn, 'wb') as f:\r\n",
        "        torch.save(save_dict, f)\r\n",
        "\r\n",
        "    # save the last checkpoint in a separate file\r\n",
        "    last_checkpoint = {'model': model.state_dict(),\r\n",
        "                                    'optimizer': optimizer.state_dict(),\r\n",
        "                                    'epoch': epoch,\r\n",
        "                                    'model_params': {}} #TEMPORARY\r\n",
        "    torch.save(last_checkpoint, model_fn)"
      ],
      "outputs": [
        {
          "output_type": "stream",
          "name": "stdout",
          "text": "\nTraining epoch: 0\n\nTraining epoch: 1\n\nTraining epoch: 2\n\nTraining epoch: 3\n\nTraining epoch: 4\n\nTraining epoch: 5\n"
        },
        {
          "output_type": "stream",
          "name": "stderr",
          "text": "  0%|          | 0/10 [00:00<?, ?it/s]/mnt/batch/tasks/shared/LS_root/mounts/clusters/compute-gpu-changins/code/Users/aurelie.dejong.agroscope/computer_vision_with_azure_course/2_semantic_segmentation/utils/eval_utils.py:22: UserWarning: indexing with dtype torch.uint8 is now deprecated, please use a dtype torch.bool instead. (Triggered internally at  ../aten/src/ATen/native/IndexingUtils.h:28.)\n  y_pred = y_pred[ind]\n/mnt/batch/tasks/shared/LS_root/mounts/clusters/compute-gpu-changins/code/Users/aurelie.dejong.agroscope/computer_vision_with_azure_course/2_semantic_segmentation/utils/eval_utils.py:23: UserWarning: indexing with dtype torch.uint8 is now deprecated, please use a dtype torch.bool instead. (Triggered internally at  ../aten/src/ATen/native/IndexingUtils.h:28.)\n  y_true = y_true[ind]\n100%|██████████| 10/10 [00:19<00:00,  1.92s/it, acc=0.718, loss=0.877, prec=0.479, rec=0.468]\n100%|██████████| 5/5 [00:22<00:00,  4.48s/it]\n100%|██████████| 10/10 [00:18<00:00,  1.89s/it, acc=0.839, loss=0.664, prec=0.69, rec=0.643]\n100%|██████████| 5/5 [00:22<00:00,  4.46s/it]\n100%|██████████| 10/10 [00:19<00:00,  1.91s/it, acc=0.875, loss=0.556, prec=0.722, rec=0.7] \n100%|██████████| 5/5 [00:22<00:00,  4.42s/it]\n100%|██████████| 10/10 [00:19<00:00,  1.92s/it, acc=0.883, loss=0.491, prec=0.771, rec=0.717]\n100%|██████████| 5/5 [00:22<00:00,  4.58s/it]\n100%|██████████| 10/10 [00:19<00:00,  1.93s/it, acc=0.904, loss=0.422, prec=0.79, rec=0.754]\n100%|██████████| 5/5 [00:22<00:00,  4.46s/it]\n100%|██████████| 10/10 [00:19<00:00,  1.90s/it, acc=0.918, loss=0.377, prec=0.846, rec=0.759]\n 80%|████████  | 4/5 [00:18<00:04,  4.53s/it]\n"
        },
        {
          "output_type": "error",
          "ename": "KeyboardInterrupt",
          "evalue": "",
          "traceback": [
            "\u001b[0;31m---------------------------------------------------------------------------\u001b[0m",
            "\u001b[0;31mKeyboardInterrupt\u001b[0m                         Traceback (most recent call last)",
            "Input \u001b[0;32mIn [17]\u001b[0m, in \u001b[0;36m<cell line: 1>\u001b[0;34m()\u001b[0m\n\u001b[1;32m      8\u001b[0m avg_loss, metrics_train \u001b[38;5;241m=\u001b[39m fit(\n\u001b[1;32m      9\u001b[0m                 model,\n\u001b[1;32m     10\u001b[0m                 ds_info\u001b[38;5;241m.\u001b[39mdevice,\n\u001b[0;32m   (...)\u001b[0m\n\u001b[1;32m     15\u001b[0m                 ds_info\n\u001b[1;32m     16\u001b[0m             )\n\u001b[1;32m     18\u001b[0m \u001b[38;5;66;03m# evaluation (validation) \u001b[39;00m\n\u001b[0;32m---> 19\u001b[0m metrics_val, loss_val \u001b[38;5;241m=\u001b[39m \u001b[43minfer\u001b[49m\u001b[38;5;241;43m.\u001b[39;49m\u001b[43m_get_inference\u001b[49m\u001b[43m(\u001b[49m\u001b[43minput_fns_val\u001b[49m\u001b[43m,\u001b[49m\u001b[43m \u001b[49m\u001b[43mtarget_fns_val\u001b[49m\u001b[43m,\u001b[49m\u001b[43m \u001b[49m\u001b[43mcriterion\u001b[49m\u001b[43m)\u001b[49m\n\u001b[1;32m     22\u001b[0m \u001b[38;5;66;03m# update and save dictionary containing metrics and checkpoints\u001b[39;00m\n\u001b[1;32m     23\u001b[0m save_dict[\u001b[38;5;124m'\u001b[39m\u001b[38;5;124mval_reports\u001b[39m\u001b[38;5;124m'\u001b[39m]\u001b[38;5;241m.\u001b[39mappend(metrics_val)\n",
            "File \u001b[0;32m/mnt/batch/tasks/shared/LS_root/mounts/clusters/compute-gpu-changins/code/Users/aurelie.dejong.agroscope/computer_vision_with_azure_course/2_semantic_segmentation/utils/infer_utils.py:114\u001b[0m, in \u001b[0;36mInference._get_inference\u001b[0;34m(self, input_fns, target_fns, criterion)\u001b[0m\n\u001b[1;32m    112\u001b[0m target \u001b[38;5;241m=\u001b[39m stream_data\u001b[38;5;241m.\u001b[39mtarget\n\u001b[1;32m    113\u001b[0m \u001b[38;5;28;01mif\u001b[39;00m criterion:\n\u001b[0;32m--> 114\u001b[0m     output, val_loss \u001b[38;5;241m=\u001b[39m \u001b[38;5;28;43mself\u001b[39;49m\u001b[38;5;241;43m.\u001b[39;49m\u001b[43m_infer_sample\u001b[49m\u001b[43m(\u001b[49m\u001b[43mstream_data\u001b[49m\u001b[38;5;241;43m.\u001b[39;49m\u001b[43mpatches\u001b[49m\u001b[43m,\u001b[49m\u001b[43m \u001b[49m\u001b[43mstream_data\u001b[49m\u001b[38;5;241;43m.\u001b[39;49m\u001b[43mpatch_coordinates\u001b[49m\u001b[43m,\u001b[49m\u001b[43m \u001b[49m\u001b[43mtarget\u001b[49m\u001b[43m,\u001b[49m\u001b[43m \u001b[49m\u001b[43mcriterion\u001b[49m\u001b[43m)\u001b[49m\n\u001b[1;32m    115\u001b[0m     val_losses\u001b[38;5;241m.\u001b[39mappend(val_loss)\n\u001b[1;32m    116\u001b[0m \u001b[38;5;28;01melse\u001b[39;00m:\n",
            "File \u001b[0;32m/mnt/batch/tasks/shared/LS_root/mounts/clusters/compute-gpu-changins/code/Users/aurelie.dejong.agroscope/computer_vision_with_azure_course/2_semantic_segmentation/utils/infer_utils.py:67\u001b[0m, in \u001b[0;36mInference._infer_sample\u001b[0;34m(self, inputs, coordinates, target, criterion)\u001b[0m\n\u001b[1;32m     65\u001b[0m     \u001b[38;5;28;01mif\u001b[39;00m criterion:\n\u001b[1;32m     66\u001b[0m         val_loss \u001b[38;5;241m=\u001b[39m criterion(t_output[\u001b[38;5;124m'\u001b[39m\u001b[38;5;124mout\u001b[39m\u001b[38;5;124m'\u001b[39m], n_targets\u001b[38;5;241m.\u001b[39mlong())\n\u001b[0;32m---> 67\u001b[0m         val_losses\u001b[38;5;241m.\u001b[39mappend(\u001b[43mval_loss\u001b[49m\u001b[38;5;241;43m.\u001b[39;49m\u001b[43mitem\u001b[49m\u001b[43m(\u001b[49m\u001b[43m)\u001b[49m)\n\u001b[1;32m     68\u001b[0m     a_output \u001b[38;5;241m=\u001b[39m torch\u001b[38;5;241m.\u001b[39msoftmax(t_output[\u001b[38;5;124m'\u001b[39m\u001b[38;5;124mout\u001b[39m\u001b[38;5;124m'\u001b[39m]\u001b[38;5;241m.\u001b[39mcpu(), dim \u001b[38;5;241m=\u001b[39m \u001b[38;5;241m1\u001b[39m)\u001b[38;5;241m.\u001b[39mnumpy()\n\u001b[1;32m     69\u001b[0m \u001b[38;5;66;03m# accumulate the batch predictions\u001b[39;00m\n",
            "\u001b[0;31mKeyboardInterrupt\u001b[0m: "
          ]
        }
      ],
      "execution_count": 17,
      "metadata": {
        "jupyter": {
          "source_hidden": false,
          "outputs_hidden": false
        },
        "nteract": {
          "transient": {
            "deleting": false
          }
        },
        "gather": {
          "logged": 1670577880339
        }
      }
    },
    {
      "cell_type": "code",
      "source": [],
      "outputs": [],
      "execution_count": null,
      "metadata": {
        "jupyter": {
          "source_hidden": false,
          "outputs_hidden": false
        },
        "nteract": {
          "transient": {
            "deleting": false
          }
        }
      }
    }
  ],
  "metadata": {
    "kernelspec": {
      "name": "python38-azureml",
      "language": "python",
      "display_name": "Python 3.8 - AzureML"
    },
    "language_info": {
      "name": "python",
      "version": "3.8.5",
      "mimetype": "text/x-python",
      "codemirror_mode": {
        "name": "ipython",
        "version": 3
      },
      "pygments_lexer": "ipython3",
      "nbconvert_exporter": "python",
      "file_extension": ".py"
    },
    "nteract": {
      "version": "nteract-front-end@1.0.0"
    },
    "kernel_info": {
      "name": "python38-azureml"
    },
    "microsoft": {
      "host": {
        "AzureML": {
          "notebookHasBeenCompleted": true
        }
      }
    }
  },
  "nbformat": 4,
  "nbformat_minor": 2
}